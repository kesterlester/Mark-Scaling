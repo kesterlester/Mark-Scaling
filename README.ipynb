{
 "cells": [
  {
   "cell_type": "markdown",
   "id": "d6e62da2",
   "metadata": {},
   "source": [
    "## A library of mark scaling functions which preserve endpoints."
   ]
  },
  {
   "cell_type": "code",
   "execution_count": null,
   "id": "6898fca3",
   "metadata": {},
   "outputs": [],
   "source": [
    "import lesterScaling"
   ]
  },
  {
   "cell_type": "code",
   "execution_count": null,
   "id": "895d9c15",
   "metadata": {},
   "outputs": [],
   "source": [
    "lesterScaling.demo()"
   ]
  },
  {
   "cell_type": "code",
   "execution_count": null,
   "id": "b4a7a0e9",
   "metadata": {},
   "outputs": [],
   "source": []
  }
 ],
 "metadata": {
  "kernelspec": {
   "display_name": "Python 3 (ipykernel)",
   "language": "python",
   "name": "python3"
  },
  "language_info": {
   "codemirror_mode": {
    "name": "ipython",
    "version": 3
   },
   "file_extension": ".py",
   "mimetype": "text/x-python",
   "name": "python",
   "nbconvert_exporter": "python",
   "pygments_lexer": "ipython3",
   "version": "3.8.14"
  }
 },
 "nbformat": 4,
 "nbformat_minor": 5
}
